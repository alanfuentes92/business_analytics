{
  "nbformat": 4,
  "nbformat_minor": 0,
  "metadata": {
    "colab": {
      "provenance": [],
      "authorship_tag": "ABX9TyODiHHd6yzo3wJstZo7v0uI",
      "include_colab_link": true
    },
    "kernelspec": {
      "name": "python3",
      "display_name": "Python 3"
    },
    "language_info": {
      "name": "python"
    }
  },
  "cells": [
    {
      "cell_type": "markdown",
      "metadata": {
        "id": "view-in-github",
        "colab_type": "text"
      },
      "source": [
        "<a href=\"https://colab.research.google.com/github/alanfuentes92/business_analytics/blob/main/Fuentes_Alan_Comisi%C3%B3n_25262_TPI_Data_Analytics.ipynb\" target=\"_parent\"><img src=\"https://colab.research.google.com/assets/colab-badge.svg\" alt=\"Open In Colab\"/></a>"
      ]
    },
    {
      "cell_type": "code",
      "execution_count": null,
      "metadata": {
        "id": "V90M88SOOmO0"
      },
      "outputs": [],
      "source": []
    },
    {
      "cell_type": "code",
      "metadata": {
        "id": "1fad872f"
      },
      "source": [
        "!pip install --upgrade gspread google-auth google-auth-httplib2 google-auth-oauthlib"
      ],
      "execution_count": null,
      "outputs": []
    },
    {
      "cell_type": "code",
      "metadata": {
        "id": "7c7b092a"
      },
      "source": [
        "from google.colab import auth\n",
        "import gspread\n",
        "from google.auth import default\n",
        "import pandas as pd\n",
        "\n",
        "# Authenticate to Colab\n",
        "auth.authenticate_user()\n",
        "\n",
        "# Get the credentials and create an API client\n",
        "creds, _ = default()\n",
        "gc = gspread.authorize(creds)\n",
        "\n",
        "# Open the spreadsheet by name or key\n",
        "# Replace 'YOUR_SPREADSHEET_NAME' with the actual name of your Google Sheet\n",
        "# Or replace 'YOUR_SPREADSHEET_KEY' with the actual key of your Google Sheet\n",
        "# sheet = gc.open('YOUR_SPREADSHEET_NAME').sheet1 # Open by name and get the first sheet\n",
        "sheet = gc.open_by_key('YOUR_SPREADSHEET_KEY').sheet1 # Open by key and get the first sheet\n",
        "\n",
        "# Get all values from the sheet as a list of lists\n",
        "data = sheet.get_all_values()\n",
        "\n",
        "# Convert the list of lists to a pandas DataFrame\n",
        "df = pd.DataFrame(data[1:], columns=data[0])\n",
        "\n",
        "# Display the first few rows of the DataFrame\n",
        "display(df.head())"
      ],
      "execution_count": null,
      "outputs": []
    }
  ]
}